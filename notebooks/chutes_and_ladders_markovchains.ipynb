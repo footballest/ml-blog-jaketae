{
  "cells": [
    {
      "cell_type": "markdown",
      "metadata": {
        "id": "view-in-github",
        "colab_type": "text"
      },
      "source": [
        "<a href=\"https://colab.research.google.com/github/footballest/ml-blog-jaketae/blob/main/notebooks/chutes_and_ladders_markovchains.ipynb\" target=\"_parent\"><img src=\"https://colab.research.google.com/assets/colab-badge.svg\" alt=\"Open In Colab\"/></a>"
      ]
    },
    {
      "cell_type": "markdown",
      "id": "9149dea1",
      "metadata": {
        "id": "9149dea1"
      },
      "source": [
        "\n",
        "# Marov Chains via Chutes and Ladders game – Replication/Notes\n",
        "\n",
        "**Original post**: <https://jaketae.github.io/study/markov-chain/>   \n",
        "**Last updated**: <YYYY-MM-DD>\n",
        "\n",
        "---\n",
        "\n",
        "## Goals\n",
        "- Summarize key ideas in my own words\n",
        "- Implement the core algorithm from scratch (where feasible)\n",
        "- Compare with a reference implementation (if relevant)\n",
        "- Run a tiny experiment and record results\n"
      ]
    },
    {
      "cell_type": "code",
      "execution_count": 1,
      "id": "6f15a72c",
      "metadata": {
        "id": "6f15a72c",
        "outputId": "e35c0ad0-ca9e-466b-e368-2edb0de8e1d0",
        "colab": {
          "base_uri": "https://localhost:8080/"
        }
      },
      "outputs": [
        {
          "output_type": "stream",
          "name": "stdout",
          "text": [
            "Mounted at /content/drive\n",
            "Workspace ready: /content/drive/MyDrive/ml-blog\n"
          ]
        }
      ],
      "source": [
        "\n",
        "#@title Setup (mount Drive and create workspace paths)\n",
        "from google.colab import drive\n",
        "drive.mount('/content/drive')\n",
        "BASE_DIR = '/content/drive/MyDrive/ml-blog'\n",
        "DATA_DIR = f'{BASE_DIR}/data'\n",
        "IMG_DIR = f'{BASE_DIR}/images'\n",
        "ART_DIR = f'{BASE_DIR}/artifacts'\n",
        "\n",
        "import os\n",
        "for d in [BASE_DIR, DATA_DIR, IMG_DIR, ART_DIR]:\n",
        "    os.makedirs(d, exist_ok=True)\n",
        "print(\"Workspace ready:\", BASE_DIR)\n"
      ]
    },
    {
      "cell_type": "code",
      "execution_count": 2,
      "id": "54a6d521",
      "metadata": {
        "id": "54a6d521",
        "outputId": "6d3c8227-b618-4196-9542-cb047a65bc89",
        "colab": {
          "base_uri": "https://localhost:8080/"
        }
      },
      "outputs": [
        {
          "output_type": "stream",
          "name": "stdout",
          "text": [
            "PyTorch: 2.8.0+cu126\n"
          ]
        }
      ],
      "source": [
        "\n",
        "#@title Environment check (optional)\n",
        "try:\n",
        "    import torch\n",
        "    print(\"PyTorch:\", torch.__version__)\n",
        "    if torch.cuda.is_available():\n",
        "        print(\"CUDA device:\", torch.cuda.get_device_name(0))\n",
        "except Exception as e:\n",
        "    print(\"Torch not available by default on Colab runtimes; that's okay.\", e)\n"
      ]
    },
    {
      "cell_type": "markdown",
      "id": "c49ee364",
      "metadata": {
        "id": "c49ee364"
      },
      "source": [
        "## Theory recap\n",
        "Markov Chains"
      ]
    },
    {
      "cell_type": "markdown",
      "id": "7c0b83cd",
      "metadata": {
        "id": "7c0b83cd"
      },
      "source": [
        "## Implementation (from scratch or minimal lib use)\n",
        "Add your code here."
      ]
    },
    {
      "cell_type": "markdown",
      "id": "a4d6793a",
      "metadata": {
        "id": "a4d6793a"
      },
      "source": [
        "## Experiments\n",
        "Describe the dataset, metrics, and small experiments you ran."
      ]
    },
    {
      "cell_type": "markdown",
      "id": "f7df67e3",
      "metadata": {
        "id": "f7df67e3"
      },
      "source": [
        "## Results & Discussion\n",
        "What worked? What didn’t? What would you try next?"
      ]
    },
    {
      "cell_type": "markdown",
      "id": "cccd93c4",
      "metadata": {
        "id": "cccd93c4"
      },
      "source": [
        "## References\n",
        "- Add links to papers, docs, and the original post."
      ]
    },
    {
      "cell_type": "code",
      "source": [],
      "metadata": {
        "id": "ZRLhQKYGCC0l"
      },
      "id": "ZRLhQKYGCC0l",
      "execution_count": null,
      "outputs": []
    },
    {
      "cell_type": "markdown",
      "source": [
        "\n",
        "\n",
        "```\n",
        "\n",
        "```\n",
        "## Rough\n",
        "\n"
      ],
      "metadata": {
        "id": "jSndwaM3CP4s"
      },
      "id": "jSndwaM3CP4s"
    },
    {
      "cell_type": "code",
      "source": [
        "import numpy as np\n",
        "import matplotlib.pyplot as plt"
      ],
      "metadata": {
        "id": "zSeROMzyPDDg"
      },
      "id": "zSeROMzyPDDg",
      "execution_count": 5,
      "outputs": []
    },
    {
      "cell_type": "code",
      "source": [
        "# Naive function for the stochastic matrix of the game - w/o accounting for the jumpsin the game.\n",
        "def naive_stochastic_mat(dim=101, roll=6):\n",
        "\n",
        "    \"\"\"Returns a 2D numpy stochastic matrix.\"\"\"\n",
        "\n",
        "    # Initialize ndarray of zeros\n",
        "    T_1 = np.zeros((dim, dim))\n",
        "\n",
        "    # Assign probability to appropriate entries\n",
        "    for i in range(101):\n",
        "        if i < 95:\n",
        "            T_1[i + 1:i + 1 + roll, i] = 1. / roll\n",
        "        elif i != 100:\n",
        "            T_1[i + 1:100, i] = 1. / roll\n",
        "            T_1[100, i] = 1 - (1. / roll) * (99 - i)\n",
        "        else:\n",
        "            T_1[i, i] = 1.\n",
        "\n",
        "    return T_1"
      ],
      "metadata": {
        "id": "RpDWg1tsCEWb"
      },
      "id": "RpDWg1tsCEWb",
      "execution_count": 14,
      "outputs": []
    },
    {
      "cell_type": "code",
      "source": [
        "naive_stocm = naive_stochastic_mat()\n",
        "plt.matshow(naive_stocm)\n",
        "plt.show() # as on can on only the next 6 integers in the sequence given the current state has positive probabilities"
      ],
      "metadata": {
        "id": "o2KpBssCCEiW",
        "outputId": "2528c4f2-2bfc-485b-cf87-d3ce47381ca0",
        "colab": {
          "base_uri": "https://localhost:8080/",
          "height": 439
        }
      },
      "id": "o2KpBssCCEiW",
      "execution_count": 45,
      "outputs": [
        {
          "output_type": "display_data",
          "data": {
            "text/plain": [
              "<Figure size 480x480 with 1 Axes>"
            ],
            "image/png": "[encoded data removed]"
          },
          "metadata": {}
        }
      ]
    },
    {
      "cell_type": "code",
      "source": [
        "## setting the jumps as a dict\n",
        "chutes_ladders = {\n",
        "1: 38, 4: 14, 9: 31, 16: 6, 21: 42,\n",
        "28: 84, 36: 44, 47: 26, 49: 11, 51: 67,\n",
        "56: 53, 62: 19, 64: 60, 71: 91, 80: 100,\n",
        "87: 24, 93: 73, 95: 75, 98: 78\n",
        "}"
      ],
      "metadata": {
        "id": "De1ay_-6CEq_"
      },
      "id": "De1ay_-6CEq_",
      "execution_count": 26,
      "outputs": []
    },
    {
      "cell_type": "code",
      "source": [
        "# ndarray of 101 elements\n",
        "# If i in chutes_ladders, replace i with corresponding value\n",
        "index_lst = [chutes_ladders.get(j, j) for j in range(101)]\n",
        "index_lst[0:10]"
      ],
      "metadata": {
        "id": "ZgFgAH58CE0R",
        "outputId": "24c81755-60c0-4d01-f560-3890c22433f2",
        "colab": {
          "base_uri": "https://localhost:8080/"
        }
      },
      "id": "ZgFgAH58CE0R",
      "execution_count": 29,
      "outputs": [
        {
          "output_type": "execute_result",
          "data": {
            "text/plain": [
              "[0, 38, 2, 3, 14, 5, 6, 7, 8, 31]"
            ]
          },
          "metadata": {},
          "execution_count": 29
        }
      ]
    },
    {
      "cell_type": "code",
      "source": [],
      "metadata": {
        "id": "QnGZx6SRSgV8"
      },
      "id": "QnGZx6SRSgV8",
      "execution_count": null,
      "outputs": []
    },
    {
      "cell_type": "code",
      "source": [
        "# Initialize ndarray of zeros\n",
        "T_2 = np.zeros((101, 101))\n",
        "\n",
        "# Permutation matrix\n",
        "T_2[index_lst, range(101)] = 1"
      ],
      "metadata": {
        "id": "Mmrwamk-CFTs"
      },
      "id": "Mmrwamk-CFTs",
      "execution_count": 53,
      "outputs": []
    },
    {
      "cell_type": "code",
      "source": [
        "T_2[:,4]"
      ],
      "metadata": {
        "id": "ezbXBS-hCFbI",
        "outputId": "57e4614e-257d-450b-f313-67d92d9931d4",
        "colab": {
          "base_uri": "https://localhost:8080/"
        }
      },
      "id": "ezbXBS-hCFbI",
      "execution_count": 54,
      "outputs": [
        {
          "output_type": "execute_result",
          "data": {
            "text/plain": [
              "array([0., 0., 0., 0., 0., 0., 0., 0., 0., 0., 0., 0., 0., 0., 1., 0., 0.,\n",
              "       0., 0., 0., 0., 0., 0., 0., 0., 0., 0., 0., 0., 0., 0., 0., 0., 0.,\n",
              "       0., 0., 0., 0., 0., 0., 0., 0., 0., 0., 0., 0., 0., 0., 0., 0., 0.,\n",
              "       0., 0., 0., 0., 0., 0., 0., 0., 0., 0., 0., 0., 0., 0., 0., 0., 0.,\n",
              "       0., 0., 0., 0., 0., 0., 0., 0., 0., 0., 0., 0., 0., 0., 0., 0., 0.,\n",
              "       0., 0., 0., 0., 0., 0., 0., 0., 0., 0., 0., 0., 0., 0., 0., 0.])"
            ]
          },
          "metadata": {},
          "execution_count": 54
        }
      ]
    },
    {
      "cell_type": "code",
      "source": [],
      "metadata": {
        "id": "01z3GPOOUgDO"
      },
      "id": "01z3GPOOUgDO",
      "execution_count": null,
      "outputs": []
    },
    {
      "cell_type": "code",
      "source": [
        "plt.matshow(T_2)\n",
        "plt.show()"
      ],
      "metadata": {
        "id": "q3FxsBpWUXn3",
        "outputId": "293755b3-b7f2-430f-d04d-b8f56943cdfc",
        "colab": {
          "base_uri": "https://localhost:8080/",
          "height": 439
        }
      },
      "id": "q3FxsBpWUXn3",
      "execution_count": 55,
      "outputs": [
        {
          "output_type": "display_data",
          "data": {
            "text/plain": [
              "<Figure size 480x480 with 1 Axes>"
            ],
            "image/png": "[encoded data removed]"
          },
          "metadata": {}
        }
      ]
    },
    {
      "cell_type": "code",
      "source": [
        "def stochastic_mat(dim=101, roll = 6):\n",
        "\n",
        "    chutes_ladders = {\n",
        "    1: 38, 4: 14, 9: 31, 16: 6, 21: 42,\n",
        "    28: 84, 36: 44, 47: 26, 49: 11, 51: 67,\n",
        "    56: 53, 62: 19, 64: 60, 71: 91, 80: 100,\n",
        "    87: 24, 93: 73, 95: 75, 98: 78\n",
        "    }\n",
        "\n",
        "    T_1 = np.zeros((dim, dim))\n",
        "    T_2 = np.zeros((dim, dim))\n",
        "\n",
        "    for i in range(101):\n",
        "        if i < 95:\n",
        "            T_1[i + 1:i + 1 + roll, i] = 1. / roll\n",
        "        elif i != 100:\n",
        "            T_1[i + 1:100, i] = 1. / roll\n",
        "            T_1[100, i] = 1 - (1. / roll) * (99 - i)\n",
        "        else:\n",
        "            T_1[i, i] = 1.\n",
        "\n",
        "    index_lst = [chutes_ladders.get(j, j) for j in range(101)]\n",
        "\n",
        "    T_2[index_lst, range(101)] = 1\n",
        "\n",
        "    T = T_2 @ T_1\n",
        "\n",
        "    return T"
      ],
      "metadata": {
        "id": "DQ8kMqegCFoo"
      },
      "id": "DQ8kMqegCFoo",
      "execution_count": 42,
      "outputs": []
    },
    {
      "cell_type": "code",
      "source": [
        "T = stochastic_mat()\n",
        "plt.matshow(T)\n",
        "plt.show()"
      ],
      "metadata": {
        "id": "A4VGWr0bCFz0",
        "outputId": "311054bf-7072-4b84-b7d6-38e8202f0f1a",
        "colab": {
          "base_uri": "https://localhost:8080/",
          "height": 439
        }
      },
      "id": "A4VGWr0bCFz0",
      "execution_count": 43,
      "outputs": [
        {
          "output_type": "display_data",
          "data": {
            "text/plain": [
              "<Figure size 480x480 with 1 Axes>"
            ],
            "image/png": "[encoded data removed]"
          },
          "metadata": {}
        }
      ]
    },
    {
      "cell_type": "code",
      "source": [],
      "metadata": {
        "id": "k41GwZ-aCF_F"
      },
      "id": "k41GwZ-aCF_F",
      "execution_count": null,
      "outputs": []
    }
  ],
  "metadata": {
    "colab": {
      "provenance": [],
      "include_colab_link": true
    },
    "language_info": {
      "name": "python"
    },
    "kernelspec": {
      "name": "python3",
      "display_name": "Python 3"
    }
  },
  "nbformat": 4,
  "nbformat_minor": 5
}