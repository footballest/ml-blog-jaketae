{
  "cells": [
    {
      "cell_type": "markdown",
      "metadata": {
        "id": "view-in-github",
        "colab_type": "text"
      },
      "source": [
        "<a href=\"https://colab.research.google.com/github/footballest/ml-blog-jaketae/blob/main/notebooks/chutes_and_ladders_markovchains.ipynb\" target=\"_parent\"><img src=\"https://colab.research.google.com/assets/colab-badge.svg\" alt=\"Open In Colab\"/></a>"
      ]
    },
    {
      "cell_type": "markdown",
      "id": "9149dea1",
      "metadata": {
        "id": "9149dea1"
      },
      "source": [
        "\n",
        "# TITLE – Replication/Notes\n",
        "\n",
        "**Original post**: <https://jaketae.github.io/study/markov-chain/>   \n",
        "**Last updated**: <YYYY-MM-DD>\n",
        "\n",
        "---\n",
        "\n",
        "## Goals\n",
        "- Summarize key ideas in my own words\n",
        "- Implement the core algorithm from scratch (where feasible)\n",
        "- Compare with a reference implementation (if relevant)\n",
        "- Run a tiny experiment and record results\n"
      ]
    },
    {
      "cell_type": "code",
      "execution_count": 3,
      "id": "6f15a72c",
      "metadata": {
        "id": "6f15a72c",
        "outputId": "5da278b5-94a8-49c8-8733-a49a42dc835d",
        "colab": {
          "base_uri": "https://localhost:8080/"
        }
      },
      "outputs": [
        {
          "output_type": "stream",
          "name": "stdout",
          "text": [
            "Drive already mounted at /content/drive; to attempt to forcibly remount, call drive.mount(\"/content/drive\", force_remount=True).\n",
            "Workspace ready: /content/drive/MyDrive/ml-blog\n"
          ]
        }
      ],
      "source": [
        "\n",
        "#@title Setup (mount Drive and create workspace paths)\n",
        "from google.colab import drive\n",
        "drive.mount('/content/drive')\n",
        "BASE_DIR = '/content/drive/MyDrive/ml-blog'\n",
        "DATA_DIR = f'{BASE_DIR}/data'\n",
        "IMG_DIR = f'{BASE_DIR}/images'\n",
        "ART_DIR = f'{BASE_DIR}/artifacts'\n",
        "\n",
        "import os\n",
        "for d in [BASE_DIR, DATA_DIR, IMG_DIR, ART_DIR]:\n",
        "    os.makedirs(d, exist_ok=True)\n",
        "print(\"Workspace ready:\", BASE_DIR)\n"
      ]
    },
    {
      "cell_type": "code",
      "execution_count": 4,
      "id": "54a6d521",
      "metadata": {
        "id": "54a6d521",
        "outputId": "8d70c32d-4f95-424c-b7d6-98e06383a758",
        "colab": {
          "base_uri": "https://localhost:8080/"
        }
      },
      "outputs": [
        {
          "output_type": "stream",
          "name": "stdout",
          "text": [
            "PyTorch: 2.8.0+cu126\n"
          ]
        }
      ],
      "source": [
        "\n",
        "#@title Environment check (optional)\n",
        "try:\n",
        "    import torch\n",
        "    print(\"PyTorch:\", torch.__version__)\n",
        "    if torch.cuda.is_available():\n",
        "        print(\"CUDA device:\", torch.cuda.get_device_name(0))\n",
        "except Exception as e:\n",
        "    print(\"Torch not available by default on Colab runtimes; that's okay.\", e)\n"
      ]
    },
    {
      "cell_type": "markdown",
      "id": "c49ee364",
      "metadata": {
        "id": "c49ee364"
      },
      "source": [
        "## Theory recap\n",
        "Markov Chains"
      ]
    },
    {
      "cell_type": "markdown",
      "id": "7c0b83cd",
      "metadata": {
        "id": "7c0b83cd"
      },
      "source": [
        "## Implementation (from scratch or minimal lib use)\n",
        "Add your code here."
      ]
    },
    {
      "cell_type": "markdown",
      "id": "a4d6793a",
      "metadata": {
        "id": "a4d6793a"
      },
      "source": [
        "## Experiments\n",
        "Describe the dataset, metrics, and small experiments you ran."
      ]
    },
    {
      "cell_type": "markdown",
      "id": "f7df67e3",
      "metadata": {
        "id": "f7df67e3"
      },
      "source": [
        "## Results & Discussion\n",
        "What worked? What didn’t? What would you try next?"
      ]
    },
    {
      "cell_type": "markdown",
      "id": "cccd93c4",
      "metadata": {
        "id": "cccd93c4"
      },
      "source": [
        "## References\n",
        "- Add links to papers, docs, and the original post."
      ]
    },
    {
      "cell_type": "code",
      "source": [],
      "metadata": {
        "id": "ZRLhQKYGCC0l"
      },
      "id": "ZRLhQKYGCC0l",
      "execution_count": 5,
      "outputs": []
    },
    {
      "cell_type": "markdown",
      "source": [
        "\n",
        "\n",
        "```\n",
        "\n",
        "```\n",
        "## Rough\n",
        "\n"
      ],
      "metadata": {
        "id": "jSndwaM3CP4s"
      },
      "id": "jSndwaM3CP4s"
    },
    {
      "cell_type": "code",
      "source": [],
      "metadata": {
        "id": "RpDWg1tsCEWb"
      },
      "id": "RpDWg1tsCEWb",
      "execution_count": null,
      "outputs": []
    },
    {
      "cell_type": "code",
      "source": [],
      "metadata": {
        "id": "o2KpBssCCEiW"
      },
      "id": "o2KpBssCCEiW",
      "execution_count": null,
      "outputs": []
    },
    {
      "cell_type": "code",
      "source": [],
      "metadata": {
        "id": "De1ay_-6CEq_"
      },
      "id": "De1ay_-6CEq_",
      "execution_count": null,
      "outputs": []
    },
    {
      "cell_type": "code",
      "source": [],
      "metadata": {
        "id": "ZgFgAH58CE0R"
      },
      "id": "ZgFgAH58CE0R",
      "execution_count": null,
      "outputs": []
    },
    {
      "cell_type": "code",
      "source": [],
      "metadata": {
        "id": "Mmrwamk-CFTs"
      },
      "id": "Mmrwamk-CFTs",
      "execution_count": null,
      "outputs": []
    },
    {
      "cell_type": "code",
      "source": [],
      "metadata": {
        "id": "ezbXBS-hCFbI"
      },
      "id": "ezbXBS-hCFbI",
      "execution_count": null,
      "outputs": []
    },
    {
      "cell_type": "code",
      "source": [],
      "metadata": {
        "id": "DQ8kMqegCFoo"
      },
      "id": "DQ8kMqegCFoo",
      "execution_count": null,
      "outputs": []
    },
    {
      "cell_type": "code",
      "source": [],
      "metadata": {
        "id": "A4VGWr0bCFz0"
      },
      "id": "A4VGWr0bCFz0",
      "execution_count": null,
      "outputs": []
    },
    {
      "cell_type": "code",
      "source": [],
      "metadata": {
        "id": "k41GwZ-aCF_F"
      },
      "id": "k41GwZ-aCF_F",
      "execution_count": null,
      "outputs": []
    }
  ],
  "metadata": {
    "colab": {
      "provenance": [],
      "include_colab_link": true
    },
    "language_info": {
      "name": "python"
    },
    "kernelspec": {
      "name": "python3",
      "display_name": "Python 3"
    }
  },
  "nbformat": 4,
  "nbformat_minor": 5
}